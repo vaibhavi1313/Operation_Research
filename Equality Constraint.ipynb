{
 "cells": [
  {
   "cell_type": "markdown",
   "metadata": {},
   "source": [
    "Rohit PRajapati\n",
    "Solve following linear programming problem with equality constraint using simplex method\n",
    "\n",
    "Max z=x+2y\n",
    "\n",
    "Subject to constraints\n",
    "\n",
    "2x+y<=20\n",
    "\n",
    "-4x+5y<=10\n",
    "\n",
    "-x+2y>=-2\n",
    "\n",
    "-x+5y=15\n",
    "\n",
    "x1,x2>=0"
   ]
  },
  {
   "cell_type": "code",
   "execution_count": 1,
   "metadata": {
    "executionInfo": {
     "elapsed": 3174,
     "status": "ok",
     "timestamp": 1609527734908,
     "user": {
      "displayName": "Romana Asad",
      "photoUrl": "https://lh3.googleusercontent.com/a-/AOh14GhIAPhhas0hdzQL1-bWzT_II_qJC33-0OBVALvQqw=s64",
      "userId": "12559830426873717584"
     },
     "user_tz": -330
    },
    "id": "FSHGa03aSKln"
   },
   "outputs": [],
   "source": [
    "from scipy.optimize import linprog"
   ]
  },
  {
   "cell_type": "code",
   "execution_count": null,
   "metadata": {},
   "outputs": [],
   "source": []
  },
  {
   "cell_type": "code",
   "execution_count": 2,
   "metadata": {
    "executionInfo": {
     "elapsed": 1275,
     "status": "ok",
     "timestamp": 1609527760547,
     "user": {
      "displayName": "Romana Asad",
      "photoUrl": "https://lh3.googleusercontent.com/a-/AOh14GhIAPhhas0hdzQL1-bWzT_II_qJC33-0OBVALvQqw=s64",
      "userId": "12559830426873717584"
     },
     "user_tz": -330
    },
    "id": "DYz786dDVCV3"
   },
   "outputs": [],
   "source": [
    "obj=[-1,-2]"
   ]
  },
  {
   "cell_type": "code",
   "execution_count": 3,
   "metadata": {
    "executionInfo": {
     "elapsed": 1233,
     "status": "ok",
     "timestamp": 1609527780457,
     "user": {
      "displayName": "Romana Asad",
      "photoUrl": "https://lh3.googleusercontent.com/a-/AOh14GhIAPhhas0hdzQL1-bWzT_II_qJC33-0OBVALvQqw=s64",
      "userId": "12559830426873717584"
     },
     "user_tz": -330
    },
    "id": "SRpdFt4kVJEv"
   },
   "outputs": [],
   "source": [
    "lhs_ineq=[[2,1],[-4,5],[1,-2]]"
   ]
  },
  {
   "cell_type": "code",
   "execution_count": 4,
   "metadata": {
    "executionInfo": {
     "elapsed": 1244,
     "status": "ok",
     "timestamp": 1609527796296,
     "user": {
      "displayName": "Romana Asad",
      "photoUrl": "https://lh3.googleusercontent.com/a-/AOh14GhIAPhhas0hdzQL1-bWzT_II_qJC33-0OBVALvQqw=s64",
      "userId": "12559830426873717584"
     },
     "user_tz": -330
    },
    "id": "NRqdYbLCVN8i"
   },
   "outputs": [],
   "source": [
    "rhs_ineq=[20,10,2]"
   ]
  },
  {
   "cell_type": "code",
   "execution_count": 5,
   "metadata": {
    "executionInfo": {
     "elapsed": 1116,
     "status": "ok",
     "timestamp": 1609527812096,
     "user": {
      "displayName": "Romana Asad",
      "photoUrl": "https://lh3.googleusercontent.com/a-/AOh14GhIAPhhas0hdzQL1-bWzT_II_qJC33-0OBVALvQqw=s64",
      "userId": "12559830426873717584"
     },
     "user_tz": -330
    },
    "id": "x-Ix71y8VRz3"
   },
   "outputs": [],
   "source": [
    "lhs_eq=[[-1,5]]"
   ]
  },
  {
   "cell_type": "code",
   "execution_count": 6,
   "metadata": {
    "executionInfo": {
     "elapsed": 1518,
     "status": "ok",
     "timestamp": 1609527827800,
     "user": {
      "displayName": "Romana Asad",
      "photoUrl": "https://lh3.googleusercontent.com/a-/AOh14GhIAPhhas0hdzQL1-bWzT_II_qJC33-0OBVALvQqw=s64",
      "userId": "12559830426873717584"
     },
     "user_tz": -330
    },
    "id": "9effyT-8VVsj"
   },
   "outputs": [],
   "source": [
    "rhs_eq=[15]"
   ]
  },
  {
   "cell_type": "code",
   "execution_count": 7,
   "metadata": {
    "executionInfo": {
     "elapsed": 1607,
     "status": "ok",
     "timestamp": 1609527843845,
     "user": {
      "displayName": "Romana Asad",
      "photoUrl": "https://lh3.googleusercontent.com/a-/AOh14GhIAPhhas0hdzQL1-bWzT_II_qJC33-0OBVALvQqw=s64",
      "userId": "12559830426873717584"
     },
     "user_tz": -330
    },
    "id": "9OMc4lPhVZbz"
   },
   "outputs": [],
   "source": [
    "bnd=[(0,float(\"inf\")),(0,float(\"inf\"))]"
   ]
  },
  {
   "cell_type": "code",
   "execution_count": 8,
   "metadata": {
    "executionInfo": {
     "elapsed": 902,
     "status": "ok",
     "timestamp": 1609527862452,
     "user": {
      "displayName": "Romana Asad",
      "photoUrl": "https://lh3.googleusercontent.com/a-/AOh14GhIAPhhas0hdzQL1-bWzT_II_qJC33-0OBVALvQqw=s64",
      "userId": "12559830426873717584"
     },
     "user_tz": -330
    },
    "id": "Dl2Ap1HiVdUz"
   },
   "outputs": [],
   "source": [
    "opt=linprog(c=obj,A_ub=lhs_ineq, b_ub=rhs_ineq,A_eq=lhs_eq, b_eq=rhs_eq,bounds=bnd,method=\"revised simplex\")"
   ]
  },
  {
   "cell_type": "code",
   "execution_count": 9,
   "metadata": {
    "colab": {
     "base_uri": "https://localhost:8080/"
    },
    "executionInfo": {
     "elapsed": 1024,
     "status": "ok",
     "timestamp": 1609527872221,
     "user": {
      "displayName": "Romana Asad",
      "photoUrl": "https://lh3.googleusercontent.com/a-/AOh14GhIAPhhas0hdzQL1-bWzT_II_qJC33-0OBVALvQqw=s64",
      "userId": "12559830426873717584"
     },
     "user_tz": -330
    },
    "id": "xhcgxaX8ViC3",
    "outputId": "24192855-c7c3-4c77-b0d0-925a87fcd31a"
   },
   "outputs": [
    {
     "data": {
      "text/plain": [
       "     con: array([0.])\n",
       "     fun: -16.818181818181817\n",
       " message: 'Optimization terminated successfully.'\n",
       "     nit: 3\n",
       "   slack: array([ 0.        , 18.18181818,  3.36363636])\n",
       "  status: 0\n",
       " success: True\n",
       "       x: array([7.72727273, 4.54545455])"
      ]
     },
     "execution_count": 9,
     "metadata": {},
     "output_type": "execute_result"
    }
   ],
   "source": [
    "opt"
   ]
  },
  {
   "cell_type": "code",
   "execution_count": null,
   "metadata": {
    "id": "zej740bbVkQe"
   },
   "outputs": [],
   "source": []
  }
 ],
 "metadata": {
  "colab": {
   "authorship_tag": "ABX9TyPsWOl2hRUlNez6xX9wkgER",
   "mount_file_id": "14gyMTf9Lxv__ZPbeNsNNVcfAPrKad6lb",
   "name": "Equality Constraint Using Simplex.ipynb",
   "provenance": []
  },
  "kernelspec": {
   "display_name": "Python 3",
   "language": "python",
   "name": "python3"
  },
  "language_info": {
   "codemirror_mode": {
    "name": "ipython",
    "version": 3
   },
   "file_extension": ".py",
   "mimetype": "text/x-python",
   "name": "python",
   "nbconvert_exporter": "python",
   "pygments_lexer": "ipython3",
   "version": "3.8.5"
  }
 },
 "nbformat": 4,
 "nbformat_minor": 1
}
