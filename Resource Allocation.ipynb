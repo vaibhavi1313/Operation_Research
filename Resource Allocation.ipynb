{
 "cells": [
  {
   "cell_type": "markdown",
   "metadata": {},
   "source": [
    "Rohit Prajapati\n",
    "Max Z=20x1+12x2+40x3+25x4.........(profit)\n",
    "\n",
    "subject to constraints\n",
    "\n",
    "x1+x2+x3+x4<=50...........(manpower)\n",
    "\n",
    "3x1+2x2+x3<==100...(material A)\n",
    "\n",
    "x2+2x3<=90.....(material B)\n",
    "\n",
    "x1,x2,x3,x4>=0"
   ]
  },
  {
   "cell_type": "code",
   "execution_count": 1,
   "metadata": {
    "executionInfo": {
     "elapsed": 1250,
     "status": "ok",
     "timestamp": 1609528826700,
     "user": {
      "displayName": "Romana Asad",
      "photoUrl": "https://lh3.googleusercontent.com/a-/AOh14GhIAPhhas0hdzQL1-bWzT_II_qJC33-0OBVALvQqw=s64",
      "userId": "12559830426873717584"
     },
     "user_tz": -330
    },
    "id": "ri2EqSg-YzMS"
   },
   "outputs": [],
   "source": [
    "from scipy.optimize import linprog"
   ]
  },
  {
   "cell_type": "code",
   "execution_count": 2,
   "metadata": {
    "executionInfo": {
     "elapsed": 917,
     "status": "ok",
     "timestamp": 1609528838692,
     "user": {
      "displayName": "Romana Asad",
      "photoUrl": "https://lh3.googleusercontent.com/a-/AOh14GhIAPhhas0hdzQL1-bWzT_II_qJC33-0OBVALvQqw=s64",
      "userId": "12559830426873717584"
     },
     "user_tz": -330
    },
    "id": "sCnXWYnhZNWR"
   },
   "outputs": [],
   "source": [
    "obj=[-20,-12,-40,-25]"
   ]
  },
  {
   "cell_type": "code",
   "execution_count": 3,
   "metadata": {
    "executionInfo": {
     "elapsed": 953,
     "status": "ok",
     "timestamp": 1609528850015,
     "user": {
      "displayName": "Romana Asad",
      "photoUrl": "https://lh3.googleusercontent.com/a-/AOh14GhIAPhhas0hdzQL1-bWzT_II_qJC33-0OBVALvQqw=s64",
      "userId": "12559830426873717584"
     },
     "user_tz": -330
    },
    "id": "T5OdAL5NZQYY"
   },
   "outputs": [],
   "source": [
    "lhs_ineq=[[1,1,1,1],[3,2,1,0],[0,1,2,3]]"
   ]
  },
  {
   "cell_type": "code",
   "execution_count": 4,
   "metadata": {
    "executionInfo": {
     "elapsed": 909,
     "status": "ok",
     "timestamp": 1609528864937,
     "user": {
      "displayName": "Romana Asad",
      "photoUrl": "https://lh3.googleusercontent.com/a-/AOh14GhIAPhhas0hdzQL1-bWzT_II_qJC33-0OBVALvQqw=s64",
      "userId": "12559830426873717584"
     },
     "user_tz": -330
    },
    "id": "8mxLH-zEZTIu"
   },
   "outputs": [],
   "source": [
    "rhs_ineq=[50,100,90]"
   ]
  },
  {
   "cell_type": "code",
   "execution_count": 5,
   "metadata": {
    "executionInfo": {
     "elapsed": 950,
     "status": "ok",
     "timestamp": 1609528882277,
     "user": {
      "displayName": "Romana Asad",
      "photoUrl": "https://lh3.googleusercontent.com/a-/AOh14GhIAPhhas0hdzQL1-bWzT_II_qJC33-0OBVALvQqw=s64",
      "userId": "12559830426873717584"
     },
     "user_tz": -330
    },
    "id": "c-LZzuqZZWyk"
   },
   "outputs": [],
   "source": [
    "opt=linprog(c=obj,A_ub=lhs_ineq, b_ub=rhs_ineq,method=\"revised simplex\")"
   ]
  },
  {
   "cell_type": "code",
   "execution_count": 6,
   "metadata": {
    "colab": {
     "base_uri": "https://localhost:8080/"
    },
    "executionInfo": {
     "elapsed": 1317,
     "status": "ok",
     "timestamp": 1609528906107,
     "user": {
      "displayName": "Romana Asad",
      "photoUrl": "https://lh3.googleusercontent.com/a-/AOh14GhIAPhhas0hdzQL1-bWzT_II_qJC33-0OBVALvQqw=s64",
      "userId": "12559830426873717584"
     },
     "user_tz": -330
    },
    "id": "01OZxaubZbA0",
    "outputId": "39c4064c-792d-484a-e1eb-956943d2b950"
   },
   "outputs": [
    {
     "data": {
      "text/plain": [
       "     con: array([], dtype=float64)\n",
       "     fun: -1900.0\n",
       " message: 'Optimization terminated successfully.'\n",
       "     nit: 2\n",
       "   slack: array([ 0., 40.,  0.])\n",
       "  status: 0\n",
       " success: True\n",
       "       x: array([ 5.,  0., 45.,  0.])"
      ]
     },
     "execution_count": 6,
     "metadata": {},
     "output_type": "execute_result"
    }
   ],
   "source": [
    "opt"
   ]
  },
  {
   "cell_type": "code",
   "execution_count": null,
   "metadata": {
    "id": "vz4s1z2NZgu8"
   },
   "outputs": [],
   "source": []
  }
 ],
 "metadata": {
  "colab": {
   "authorship_tag": "ABX9TyPqHWdjROKZHZr9NAm3Fj4U",
   "mount_file_id": "1itAlnRldTgIS1yQ8FxLkZnAxqxlscgNU",
   "name": "SciPy for Resource Allocation.ipynb",
   "provenance": []
  },
  "kernelspec": {
   "display_name": "Python 3",
   "language": "python",
   "name": "python3"
  },
  "language_info": {
   "codemirror_mode": {
    "name": "ipython",
    "version": 3
   },
   "file_extension": ".py",
   "mimetype": "text/x-python",
   "name": "python",
   "nbconvert_exporter": "python",
   "pygments_lexer": "ipython3",
   "version": "3.8.5"
  }
 },
 "nbformat": 4,
 "nbformat_minor": 1
}
