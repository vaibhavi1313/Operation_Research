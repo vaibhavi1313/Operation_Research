{
  "nbformat": 4,
  "nbformat_minor": 0,
  "metadata": {
    "colab": {
      "name": "Untitled1.ipynb",
      "provenance": []
    },
    "kernelspec": {
      "name": "python3",
      "display_name": "Python 3"
    }
  },
  "cells": [
    {
      "cell_type": "code",
      "metadata": {
        "id": "mSjBOVHAOtve"
      },
      "source": [
        "\r\n",
        "\r\n",
        "\r\n"
      ],
      "execution_count": null,
      "outputs": []
    },
    {
      "cell_type": "markdown",
      "metadata": {
        "id": "YvxpqZt9OwHn"
      },
      "source": [
        "Rohit Prajapati\r\n",
        "\r\n",
        "Solve following linear programming problem using simplex method\r\n",
        "\r\n",
        "Max z=200x-300y\r\n",
        "\r\n",
        "Subject to constraints\r\n",
        "\r\n",
        "2x+3y>=1200\r\n",
        "\r\n",
        "x+y<=400\r\n",
        "\r\n",
        "2x+3/2y>=900\r\n",
        "\r\n",
        "x,y>=0"
      ]
    },
    {
      "cell_type": "code",
      "metadata": {
        "id": "AFSWfqAbO45S"
      },
      "source": [
        "from scipy .optimize import linprog"
      ],
      "execution_count": 1,
      "outputs": []
    },
    {
      "cell_type": "code",
      "metadata": {
        "id": "o0AA_JNEO5NF"
      },
      "source": [
        "obj=[-200,300]\r\n"
      ],
      "execution_count": 2,
      "outputs": []
    },
    {
      "cell_type": "code",
      "metadata": {
        "id": "5EonacbcO5aW"
      },
      "source": [
        "lhs_ineq=[[-2,-3],\r\n",
        "         [1,1],\r\n",
        "         [-2,-3/2]]\r\n"
      ],
      "execution_count": 3,
      "outputs": []
    },
    {
      "cell_type": "code",
      "metadata": {
        "id": "DhFBkvGUPEZg"
      },
      "source": [
        "rhs_ineq=[-1200,400,-900]\r\n"
      ],
      "execution_count": 4,
      "outputs": []
    },
    {
      "cell_type": "code",
      "metadata": {
        "id": "fGNySb73PEcf"
      },
      "source": [
        "bnd=[(0,float(\"inf\")),\r\n",
        "    (0,float(\"inf\"))]\r\n",
        "\r\n"
      ],
      "execution_count": 5,
      "outputs": []
    },
    {
      "cell_type": "code",
      "metadata": {
        "id": "WDnTaZxIPEwV"
      },
      "source": [
        "opt=linprog(c=obj,A_ub=lhs_ineq,b_ub=rhs_ineq,\r\n",
        "           bounds=bnd,\r\n",
        "           method=\"revised simplex\")"
      ],
      "execution_count": 6,
      "outputs": []
    },
    {
      "cell_type": "code",
      "metadata": {
        "colab": {
          "base_uri": "https://localhost:8080/"
        },
        "id": "8qctz-RwPMZT",
        "outputId": "645ded8f-2d80-458e-ebac-cece747dc7ef"
      },
      "source": [
        "opt"
      ],
      "execution_count": 7,
      "outputs": [
        {
          "output_type": "execute_result",
          "data": {
            "text/plain": [
              "     con: array([], dtype=float64)\n",
              "     fun: 120000.0\n",
              " message: 'The problem appears infeasible, as the phase one auxiliary problem terminated successfully with a residual of 3.0e+02, greater than the tolerance 1e-12 required for the solution to be considered feasible. Consider increasing the tolerance to be greater than 3.0e+02. If this tolerance is unnaceptably large, the problem is likely infeasible.'\n",
              "     nit: 1\n",
              "   slack: array([   0.,    0., -300.])\n",
              "  status: 2\n",
              " success: False\n",
              "       x: array([  0., 400.])"
            ]
          },
          "metadata": {
            "tags": []
          },
          "execution_count": 7
        }
      ]
    }
  ]
}